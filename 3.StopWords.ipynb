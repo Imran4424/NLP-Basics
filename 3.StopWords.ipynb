{
  "nbformat": 4,
  "nbformat_minor": 0,
  "metadata": {
    "colab": {
      "provenance": []
    },
    "kernelspec": {
      "name": "python3",
      "display_name": "Python 3"
    },
    "language_info": {
      "name": "python"
    }
  },
  "cells": [
    {
      "cell_type": "markdown",
      "source": [
        "# **Stop Words**"
      ],
      "metadata": {
        "id": "-gHOXNAADgv2"
      }
    },
    {
      "cell_type": "code",
      "execution_count": null,
      "metadata": {
        "id": "XUbUQnfZDfzP"
      },
      "outputs": [],
      "source": [
        "import spacy\n",
        "nlp = spacy.load(\"en_core_web_sm\")"
      ]
    },
    {
      "cell_type": "code",
      "source": [
        "# printing the stop words\n",
        "print(nlp.Defaults.stop_words)"
      ],
      "metadata": {
        "colab": {
          "base_uri": "https://localhost:8080/"
        },
        "id": "jBSX03WaEEzH",
        "outputId": "6cb0414d-e92f-4319-fa49-101805460af1"
      },
      "execution_count": null,
      "outputs": [
        {
          "output_type": "stream",
          "name": "stdout",
          "text": [
            "{'bottom', 'became', 'else', 'my', 'part', 'also', 'mostly', 'without', 'sometimes', 'becoming', 'must', 'fifteen', 'however', 'until', 'its', 'yourself', 'besides', \"'ll\", 'elsewhere', 'beyond', 'well', 'nothing', 'same', 'whom', 'anyhow', 'sometime', 'upon', 'hence', '‘m', 'last', 'done', 'those', 'do', 'as', 'whereafter', 'someone', 'both', 'themselves', 'if', 'more', 'own', 'regarding', 'is', '‘d', 'again', 'from', 'many', 'once', 'no', 'to', 'seems', 'thence', 'doing', 'indeed', 'her', 'thus', 'during', 'toward', 'full', 'myself', 'while', 'quite', 'now', 'had', 'our', 'thereafter', 'much', 'amongst', 'back', 'yet', 'your', 'afterwards', 'wherever', 'below', '‘re', 'whose', 'always', 'none', 'mine', \"'re\", 'beside', 'namely', 'even', 'are', 'latter', '‘ll', 'only', \"'s\", 'others', 'along', 'and', 'another', 'off', 'go', 'thru', 'very', 'nor', 'his', 'because', 'not', 'over', 'hers', 'did', 'via', 'me', 'ten', 'five', 'on', 'these', 'where', 'should', '’d', 'here', 'everywhere', 'itself', 'whether', '‘ve', 'less', 'been', 'around', 'often', 'herein', 'us', 'himself', 'anyway', 'give', 'call', 'all', 'about', 'amount', 'first', 'yours', 'although', 'due', 'we', 'whence', 'onto', 'somehow', 'perhaps', 'herself', 'something', 'whatever', 'using', 'between', \"'d\", 'otherwise', 'at', 'hereupon', 'further', 'then', 'among', 'become', 'see', 'most', 'for', 'really', 'before', 'she', 'in', 'unless', 'make', 'i', 'so', 'get', 'by', 'therein', 'beforehand', 'it', 'whither', 'him', 'can', 'noone', 'against', 'four', 'thereby', 'whole', 'you', 'seemed', 'fifty', 'he', '‘s', 'becomes', 'out', 'forty', 'say', 'per', 'moreover', 'ca', 'up', 'name', \"'m\", 'than', 'whereby', 'show', 'everything', 'of', 'does', 'being', 'anywhere', 'whereupon', 'any', 'other', 're', 'almost', 'or', 'what', 'hereafter', 'why', 'every', 'nowhere', 'please', 'a', 'yourselves', 'alone', 'various', 'through', 'who', 'somewhere', 'third', 'next', 'within', 'am', 'empty', 'ourselves', \"'ve\", 'anything', 'enough', 'whereas', 'made', 'each', 'but', 'nevertheless', 'except', 'nine', 'has', 'may', 'which', 'an', 'will', 'three', 'above', 'towards', 'six', 'together', 'they', 'how', 'might', 'keep', 'was', 'side', 'since', 'front', 'into', 'the', 'under', 'eleven', 'anyone', '’m', 'though', 'ever', 'just', 'throughout', \"n't\", 'former', 'rather', 'seem', 'across', 'hereby', 'eight', 'there', 'n‘t', 'hundred', 'seeming', 'one', 'them', 'some', 'behind', '’ve', '’ll', 'move', 'wherein', 'this', 'used', 'too', 'formerly', 'never', 'several', 'twelve', 'sixty', 'put', 'serious', 'top', 'cannot', 'were', 'have', 'take', 'nobody', '’re', 'thereupon', 'would', 'down', 'after', 'still', 'either', 'least', 'with', 'few', 'already', 'when', 'such', 'two', 'whoever', 'everyone', 'that', 'their', 'therefore', 'whenever', 'latterly', 'be', 'meanwhile', 'neither', '’s', 'n’t', 'could', 'ours', 'twenty'}\n"
          ]
        }
      ]
    },
    {
      "cell_type": "code",
      "source": [
        "# printing the length of the stop words\n",
        "print(len(nlp.Defaults.stop_words))"
      ],
      "metadata": {
        "colab": {
          "base_uri": "https://localhost:8080/"
        },
        "id": "aDbYZJwCEXD-",
        "outputId": "78c5f6b2-e42e-4493-d5cf-0cafd0ae5028"
      },
      "execution_count": null,
      "outputs": [
        {
          "output_type": "stream",
          "name": "stdout",
          "text": [
            "326\n"
          ]
        }
      ]
    },
    {
      "cell_type": "code",
      "source": [
        "# to determine if something is stop word or not\n",
        "# currently model has a array of stop words\n",
        "# this array contains dictionary elements\n",
        "# the word is the key and is_stop value is the boolean value\n",
        "nlp.vocab[\"always\"].is_stop"
      ],
      "metadata": {
        "colab": {
          "base_uri": "https://localhost:8080/"
        },
        "id": "7W5ym16UGcGF",
        "outputId": "05104639-ff61-4526-cb90-19b00c3e5093"
      },
      "execution_count": null,
      "outputs": [
        {
          "output_type": "execute_result",
          "data": {
            "text/plain": [
              "True"
            ]
          },
          "metadata": {},
          "execution_count": 5
        }
      ]
    },
    {
      "cell_type": "code",
      "source": [
        "# adding a stop word\n",
        "nlp.Defaults.stop_words.add(\"soudha\")"
      ],
      "metadata": {
        "id": "5rq0SZ8epkpB"
      },
      "execution_count": null,
      "outputs": []
    },
    {
      "cell_type": "code",
      "source": [
        "# now check the added word is stop word or not\n",
        "nlp.vocab[\"soudha\"].is_stop"
      ],
      "metadata": {
        "colab": {
          "base_uri": "https://localhost:8080/"
        },
        "id": "dqxLQD6ktAEA",
        "outputId": "fccde012-f66b-48ca-c1ed-542d1bb2dc2b"
      },
      "execution_count": null,
      "outputs": [
        {
          "output_type": "execute_result",
          "data": {
            "text/plain": [
              "True"
            ]
          },
          "metadata": {},
          "execution_count": 7
        }
      ]
    },
    {
      "cell_type": "code",
      "source": [
        "# printing the stop words\n",
        "print(nlp.Defaults.stop_words)"
      ],
      "metadata": {
        "colab": {
          "base_uri": "https://localhost:8080/"
        },
        "id": "j-xm_TnKtaow",
        "outputId": "8b24920c-0b20-4c62-8f41-11e5845728ec"
      },
      "execution_count": null,
      "outputs": [
        {
          "output_type": "stream",
          "name": "stdout",
          "text": [
            "{'bottom', 'became', 'else', 'my', 'part', 'also', 'soudha', 'mostly', 'without', 'sometimes', 'becoming', 'must', 'fifteen', 'however', 'until', 'its', 'yourself', 'besides', \"'ll\", 'elsewhere', 'beyond', 'well', 'nothing', 'same', 'whom', 'anyhow', 'sometime', 'upon', 'hence', '‘m', 'last', 'done', 'those', 'do', 'as', 'whereafter', 'someone', 'both', 'themselves', 'if', 'more', 'own', 'regarding', 'is', '‘d', 'again', 'from', 'many', 'once', 'no', 'to', 'seems', 'thence', 'doing', 'indeed', 'her', 'thus', 'during', 'toward', 'full', 'myself', 'while', 'quite', 'now', 'had', 'our', 'thereafter', 'much', 'amongst', 'back', 'yet', 'your', 'afterwards', 'wherever', 'below', '‘re', 'whose', 'always', 'none', 'mine', \"'re\", 'beside', 'namely', 'even', 'are', 'latter', '‘ll', 'only', \"'s\", 'others', 'along', 'and', 'another', 'off', 'go', 'thru', 'very', 'nor', 'his', 'because', 'not', 'over', 'hers', 'did', 'via', 'me', 'ten', 'five', 'on', 'these', 'where', 'should', '’d', 'here', 'everywhere', 'itself', 'whether', '‘ve', 'less', 'been', 'around', 'often', 'herein', 'us', 'himself', 'anyway', 'give', 'call', 'all', 'about', 'amount', 'first', 'yours', 'although', 'due', 'we', 'whence', 'onto', 'somehow', 'perhaps', 'herself', 'something', 'whatever', 'using', 'between', \"'d\", 'otherwise', 'at', 'hereupon', 'further', 'then', 'among', 'become', 'see', 'most', 'for', 'really', 'before', 'she', 'in', 'unless', 'make', 'i', 'so', 'get', 'by', 'therein', 'beforehand', 'it', 'whither', 'him', 'can', 'noone', 'against', 'four', 'thereby', 'whole', 'you', 'seemed', 'fifty', 'he', '‘s', 'becomes', 'out', 'forty', 'say', 'per', 'moreover', 'ca', 'up', 'name', \"'m\", 'than', 'whereby', 'show', 'everything', 'of', 'does', 'being', 'anywhere', 'whereupon', 'any', 'other', 're', 'almost', 'or', 'what', 'hereafter', 'why', 'every', 'nowhere', 'please', 'a', 'yourselves', 'alone', 'various', 'through', 'who', 'somewhere', 'third', 'next', 'within', 'am', 'empty', 'ourselves', \"'ve\", 'anything', 'enough', 'whereas', 'made', 'each', 'but', 'nevertheless', 'except', 'nine', 'has', 'may', 'which', 'an', 'will', 'three', 'above', 'towards', 'six', 'together', 'they', 'how', 'might', 'keep', 'was', 'side', 'since', 'front', 'into', 'the', 'under', 'eleven', 'anyone', '’m', 'though', 'ever', 'just', 'throughout', \"n't\", 'former', 'rather', 'seem', 'across', 'hereby', 'eight', 'there', 'n‘t', 'hundred', 'seeming', 'one', 'them', 'some', 'behind', '’ve', '’ll', 'move', 'wherein', 'this', 'used', 'too', 'formerly', 'never', 'several', 'twelve', 'sixty', 'put', 'serious', 'top', 'cannot', 'were', 'have', 'take', 'nobody', '’re', 'thereupon', 'would', 'down', 'after', 'still', 'either', 'least', 'with', 'few', 'already', 'when', 'such', 'two', 'whoever', 'everyone', 'that', 'their', 'therefore', 'whenever', 'latterly', 'be', 'meanwhile', 'neither', '’s', 'n’t', 'could', 'ours', 'twenty'}\n"
          ]
        }
      ]
    },
    {
      "cell_type": "code",
      "source": [
        "# printing the length of the stop words\n",
        "print(len(nlp.Defaults.stop_words))"
      ],
      "metadata": {
        "colab": {
          "base_uri": "https://localhost:8080/"
        },
        "id": "K6W7pdKxteWo",
        "outputId": "39125ce2-4668-48a9-ae41-98571b5d5bc9"
      },
      "execution_count": null,
      "outputs": [
        {
          "output_type": "stream",
          "name": "stdout",
          "text": [
            "327\n"
          ]
        }
      ]
    },
    {
      "cell_type": "code",
      "source": [
        "# disabling the inserted soudha stop words\n",
        "nlp.vocab[\"soudha\"].is_stop = False"
      ],
      "metadata": {
        "id": "W_kRrT_utmqA"
      },
      "execution_count": null,
      "outputs": []
    },
    {
      "cell_type": "code",
      "source": [
        "# now check the added word is stop word or not\n",
        "nlp.vocab[\"soudha\"].is_stop"
      ],
      "metadata": {
        "colab": {
          "base_uri": "https://localhost:8080/"
        },
        "id": "yky86yGN9tum",
        "outputId": "6958b99e-4a53-4f0d-c152-db0727515f5f"
      },
      "execution_count": null,
      "outputs": [
        {
          "output_type": "execute_result",
          "data": {
            "text/plain": [
              "False"
            ]
          },
          "metadata": {},
          "execution_count": 12
        }
      ]
    },
    {
      "cell_type": "code",
      "source": [
        "# printing the length of the stop words\n",
        "print(len(nlp.Defaults.stop_words))"
      ],
      "metadata": {
        "colab": {
          "base_uri": "https://localhost:8080/"
        },
        "id": "471Efh6u9zjG",
        "outputId": "50364d65-f9bc-46e8-9856-f65ae4eddc67"
      },
      "execution_count": null,
      "outputs": [
        {
          "output_type": "stream",
          "name": "stdout",
          "text": [
            "327\n"
          ]
        }
      ]
    },
    {
      "cell_type": "code",
      "source": [
        "# printing the stop words\n",
        "print(nlp.Defaults.stop_words)"
      ],
      "metadata": {
        "colab": {
          "base_uri": "https://localhost:8080/"
        },
        "id": "Yo49_0Cs93l2",
        "outputId": "38194b7e-b238-4189-9ee8-5160209b68b6"
      },
      "execution_count": null,
      "outputs": [
        {
          "output_type": "stream",
          "name": "stdout",
          "text": [
            "{'bottom', 'became', 'else', 'my', 'part', 'also', 'soudha', 'mostly', 'without', 'sometimes', 'becoming', 'must', 'fifteen', 'however', 'until', 'its', 'yourself', 'besides', \"'ll\", 'elsewhere', 'beyond', 'well', 'nothing', 'same', 'whom', 'anyhow', 'sometime', 'upon', 'hence', '‘m', 'last', 'done', 'those', 'do', 'as', 'whereafter', 'someone', 'both', 'themselves', 'if', 'more', 'own', 'regarding', 'is', '‘d', 'again', 'from', 'many', 'once', 'no', 'to', 'seems', 'thence', 'doing', 'indeed', 'her', 'thus', 'during', 'toward', 'full', 'myself', 'while', 'quite', 'now', 'had', 'our', 'thereafter', 'much', 'amongst', 'back', 'yet', 'your', 'afterwards', 'wherever', 'below', '‘re', 'whose', 'always', 'none', 'mine', \"'re\", 'beside', 'namely', 'even', 'are', 'latter', '‘ll', 'only', \"'s\", 'others', 'along', 'and', 'another', 'off', 'go', 'thru', 'very', 'nor', 'his', 'because', 'not', 'over', 'hers', 'did', 'via', 'me', 'ten', 'five', 'on', 'these', 'where', 'should', '’d', 'here', 'everywhere', 'itself', 'whether', '‘ve', 'less', 'been', 'around', 'often', 'herein', 'us', 'himself', 'anyway', 'give', 'call', 'all', 'about', 'amount', 'first', 'yours', 'although', 'due', 'we', 'whence', 'onto', 'somehow', 'perhaps', 'herself', 'something', 'whatever', 'using', 'between', \"'d\", 'otherwise', 'at', 'hereupon', 'further', 'then', 'among', 'become', 'see', 'most', 'for', 'really', 'before', 'she', 'in', 'unless', 'make', 'i', 'so', 'get', 'by', 'therein', 'beforehand', 'it', 'whither', 'him', 'can', 'noone', 'against', 'four', 'thereby', 'whole', 'you', 'seemed', 'fifty', 'he', '‘s', 'becomes', 'out', 'forty', 'say', 'per', 'moreover', 'ca', 'up', 'name', \"'m\", 'than', 'whereby', 'show', 'everything', 'of', 'does', 'being', 'anywhere', 'whereupon', 'any', 'other', 're', 'almost', 'or', 'what', 'hereafter', 'why', 'every', 'nowhere', 'please', 'a', 'yourselves', 'alone', 'various', 'through', 'who', 'somewhere', 'third', 'next', 'within', 'am', 'empty', 'ourselves', \"'ve\", 'anything', 'enough', 'whereas', 'made', 'each', 'but', 'nevertheless', 'except', 'nine', 'has', 'may', 'which', 'an', 'will', 'three', 'above', 'towards', 'six', 'together', 'they', 'how', 'might', 'keep', 'was', 'side', 'since', 'front', 'into', 'the', 'under', 'eleven', 'anyone', '’m', 'though', 'ever', 'just', 'throughout', \"n't\", 'former', 'rather', 'seem', 'across', 'hereby', 'eight', 'there', 'n‘t', 'hundred', 'seeming', 'one', 'them', 'some', 'behind', '’ve', '’ll', 'move', 'wherein', 'this', 'used', 'too', 'formerly', 'never', 'several', 'twelve', 'sixty', 'put', 'serious', 'top', 'cannot', 'were', 'have', 'take', 'nobody', '’re', 'thereupon', 'would', 'down', 'after', 'still', 'either', 'least', 'with', 'few', 'already', 'when', 'such', 'two', 'whoever', 'everyone', 'that', 'their', 'therefore', 'whenever', 'latterly', 'be', 'meanwhile', 'neither', '’s', 'n’t', 'could', 'ours', 'twenty'}\n"
          ]
        }
      ]
    },
    {
      "cell_type": "code",
      "source": [
        "# deleting the stop word soudha\n",
        "nlp.Defaults.stop_words.remove(\"soudha\")\n",
        "\n",
        "# printing the length of the stop words\n",
        "print(len(nlp.Defaults.stop_words))\n",
        "\n",
        "# printing the stop words\n",
        "print(nlp.Defaults.stop_words)"
      ],
      "metadata": {
        "colab": {
          "base_uri": "https://localhost:8080/"
        },
        "id": "A62TY_OO97FW",
        "outputId": "32b936f2-8731-41bd-ba3a-4b61890fc236"
      },
      "execution_count": null,
      "outputs": [
        {
          "output_type": "stream",
          "name": "stdout",
          "text": [
            "326\n",
            "{'bottom', 'became', 'else', 'my', 'part', 'also', 'mostly', 'without', 'sometimes', 'becoming', 'must', 'fifteen', 'however', 'until', 'its', 'yourself', 'besides', \"'ll\", 'elsewhere', 'beyond', 'well', 'nothing', 'same', 'whom', 'anyhow', 'sometime', 'upon', 'hence', '‘m', 'last', 'done', 'those', 'do', 'as', 'whereafter', 'someone', 'both', 'themselves', 'if', 'more', 'own', 'regarding', 'is', '‘d', 'again', 'from', 'many', 'once', 'no', 'to', 'seems', 'thence', 'doing', 'indeed', 'her', 'thus', 'during', 'toward', 'full', 'myself', 'while', 'quite', 'now', 'had', 'our', 'thereafter', 'much', 'amongst', 'back', 'yet', 'your', 'afterwards', 'wherever', 'below', '‘re', 'whose', 'always', 'none', 'mine', \"'re\", 'beside', 'namely', 'even', 'are', 'latter', '‘ll', 'only', \"'s\", 'others', 'along', 'and', 'another', 'off', 'go', 'thru', 'very', 'nor', 'his', 'because', 'not', 'over', 'hers', 'did', 'via', 'me', 'ten', 'five', 'on', 'these', 'where', 'should', '’d', 'here', 'everywhere', 'itself', 'whether', '‘ve', 'less', 'been', 'around', 'often', 'herein', 'us', 'himself', 'anyway', 'give', 'call', 'all', 'about', 'amount', 'first', 'yours', 'although', 'due', 'we', 'whence', 'onto', 'somehow', 'perhaps', 'herself', 'something', 'whatever', 'using', 'between', \"'d\", 'otherwise', 'at', 'hereupon', 'further', 'then', 'among', 'become', 'see', 'most', 'for', 'really', 'before', 'she', 'in', 'unless', 'make', 'i', 'so', 'get', 'by', 'therein', 'beforehand', 'it', 'whither', 'him', 'can', 'noone', 'against', 'four', 'thereby', 'whole', 'you', 'seemed', 'fifty', 'he', '‘s', 'becomes', 'out', 'forty', 'say', 'per', 'moreover', 'ca', 'up', 'name', \"'m\", 'than', 'whereby', 'show', 'everything', 'of', 'does', 'being', 'anywhere', 'whereupon', 'any', 'other', 're', 'almost', 'or', 'what', 'hereafter', 'why', 'every', 'nowhere', 'please', 'a', 'yourselves', 'alone', 'various', 'through', 'who', 'somewhere', 'third', 'next', 'within', 'am', 'empty', 'ourselves', \"'ve\", 'anything', 'enough', 'whereas', 'made', 'each', 'but', 'nevertheless', 'except', 'nine', 'has', 'may', 'which', 'an', 'will', 'three', 'above', 'towards', 'six', 'together', 'they', 'how', 'might', 'keep', 'was', 'side', 'since', 'front', 'into', 'the', 'under', 'eleven', 'anyone', '’m', 'though', 'ever', 'just', 'throughout', \"n't\", 'former', 'rather', 'seem', 'across', 'hereby', 'eight', 'there', 'n‘t', 'hundred', 'seeming', 'one', 'them', 'some', 'behind', '’ve', '’ll', 'move', 'wherein', 'this', 'used', 'too', 'formerly', 'never', 'several', 'twelve', 'sixty', 'put', 'serious', 'top', 'cannot', 'were', 'have', 'take', 'nobody', '’re', 'thereupon', 'would', 'down', 'after', 'still', 'either', 'least', 'with', 'few', 'already', 'when', 'such', 'two', 'whoever', 'everyone', 'that', 'their', 'therefore', 'whenever', 'latterly', 'be', 'meanwhile', 'neither', '’s', 'n’t', 'could', 'ours', 'twenty'}\n"
          ]
        }
      ]
    },
    {
      "cell_type": "code",
      "source": [
        "# funny thing is\n",
        "# even the stop word soudha is not stored inside the stop word list\n",
        "# it will return false by default since it is not stored in the list\n",
        "# now check the added word is stop word or not\n",
        "nlp.vocab[\"soudha\"].is_stop"
      ],
      "metadata": {
        "colab": {
          "base_uri": "https://localhost:8080/"
        },
        "id": "8W68N8_d-ixn",
        "outputId": "5058d809-38ac-493f-8f0a-34d42d471d33"
      },
      "execution_count": null,
      "outputs": [
        {
          "output_type": "execute_result",
          "data": {
            "text/plain": [
              "False"
            ]
          },
          "metadata": {},
          "execution_count": 16
        }
      ]
    }
  ]
}