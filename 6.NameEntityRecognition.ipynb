{
  "nbformat": 4,
  "nbformat_minor": 0,
  "metadata": {
    "colab": {
      "provenance": []
    },
    "kernelspec": {
      "name": "python3",
      "display_name": "Python 3"
    },
    "language_info": {
      "name": "python"
    }
  },
  "cells": [
    {
      "cell_type": "markdown",
      "source": [
        "# 1) Basics of Named Entity Recognition\n",
        "\n",
        "Named Entity Recognition is a subtask of information extraction that classify named entities into pre-defined categories such as names of persons, organizations, locations\n",
        "\n",
        "spaCy features an extremely fast statistical entity recognition system, that assigns labels to contiguous spans of tokens\n",
        "\n",
        "The default model identifies a variety of named and numeric entities, including companies, locations, organizations and products"
      ],
      "metadata": {
        "id": "oNkXSzMsqQTd"
      }
    },
    {
      "cell_type": "code",
      "execution_count": null,
      "metadata": {
        "id": "zyqM3d9QqCwW"
      },
      "outputs": [],
      "source": [
        "# officaial documentation\n",
        "# https://spacy.io/usage/linguistic-features/#named-entities\n"
      ]
    },
    {
      "cell_type": "code",
      "source": [
        "# Import spaCy\n",
        "import spacy"
      ],
      "metadata": {
        "id": "s4NlTiFGqWzT"
      },
      "execution_count": null,
      "outputs": []
    },
    {
      "cell_type": "code",
      "source": [
        "# load the English language library\n",
        "nlp = spacy.load(name=\"en_core_web_sm\")"
      ],
      "metadata": {
        "id": "RwJ_FSHRqWuU"
      },
      "execution_count": null,
      "outputs": []
    },
    {
      "cell_type": "code",
      "source": [
        "# create a document object\n",
        "document = nlp(\"Apple is looking at buying U.K. startup for $1 billion\")"
      ],
      "metadata": {
        "id": "AKS_QQYOqoQ1"
      },
      "execution_count": null,
      "outputs": []
    },
    {
      "cell_type": "code",
      "source": [
        "for entity in document.ents:\n",
        "  print(entity.text, entity.start_char, entity.end_char, entity.label_, str(spacy.explain(entity.label_)))"
      ],
      "metadata": {
        "colab": {
          "base_uri": "https://localhost:8080/"
        },
        "id": "3oQwdz15qpLU",
        "outputId": "1226583c-edde-4324-b6c6-dea20991c9b0"
      },
      "execution_count": null,
      "outputs": [
        {
          "output_type": "stream",
          "name": "stdout",
          "text": [
            "Apple 0 5 ORG Companies, agencies, institutions, etc.\n",
            "U.K. 27 31 GPE Countries, cities, states\n",
            "$1 billion 44 54 MONEY Monetary values, including unit\n"
          ]
        }
      ]
    },
    {
      "cell_type": "code",
      "source": [
        "# Create another doc object\n",
        "documentTwo = nlp(\"San Francisco considers banning sidewalk delivery robots\")"
      ],
      "metadata": {
        "id": "vTNtD7ohqpIt"
      },
      "execution_count": null,
      "outputs": []
    },
    {
      "cell_type": "code",
      "source": [
        "for entity in documentTwo.ents:\n",
        "  print(entity.text, entity.start_char, entity.end_char, entity.label_, str(spacy.explain(entity.label_)))"
      ],
      "metadata": {
        "colab": {
          "base_uri": "https://localhost:8080/"
        },
        "id": "nL4jIWF_qpC0",
        "outputId": "ef71b84b-bc3d-4962-cd2d-e2a96b28ce09"
      },
      "execution_count": null,
      "outputs": [
        {
          "output_type": "stream",
          "name": "stdout",
          "text": [
            "San Francisco 0 13 GPE Countries, cities, states\n"
          ]
        }
      ]
    },
    {
      "cell_type": "markdown",
      "source": [
        "# 2) Adding Named Entity to Span"
      ],
      "metadata": {
        "id": "H9rpu3waBI6q"
      }
    },
    {
      "cell_type": "code",
      "source": [
        "documentThree = nlp(\"facebook is hiring a new vice president in U.S.\")"
      ],
      "metadata": {
        "id": "HYEr5XEvBUSx"
      },
      "execution_count": null,
      "outputs": []
    },
    {
      "cell_type": "code",
      "source": [
        "for entity in documentThree.ents:\n",
        "  print(entity.text, entity.label_, str(spacy.explain(entity.label_)))"
      ],
      "metadata": {
        "colab": {
          "base_uri": "https://localhost:8080/"
        },
        "id": "yBBzsmN5qo5s",
        "outputId": "fd6df340-0cfe-4325-ca1a-fc2333752930"
      },
      "execution_count": null,
      "outputs": [
        {
          "output_type": "stream",
          "name": "stdout",
          "text": [
            "U.S. GPE Countries, cities, states\n"
          ]
        }
      ]
    },
    {
      "cell_type": "code",
      "source": [
        "# We will add Facebook as Named Entity\n",
        "\n",
        "# importing span from spacy.tokens\n",
        "from spacy.tokens import Span"
      ],
      "metadata": {
        "id": "C80O9_liBh4h"
      },
      "execution_count": null,
      "outputs": []
    },
    {
      "cell_type": "code",
      "source": [
        "# Get the hash value of ORG entity label\n",
        "ORG = documentThree.vocab.strings[\"ORG\"]\n",
        "print(ORG)"
      ],
      "metadata": {
        "colab": {
          "base_uri": "https://localhost:8080/"
        },
        "id": "VLc0S7Z-BhtZ",
        "outputId": "8acffb81-48c2-467d-bafd-6d0424783eb2"
      },
      "execution_count": null,
      "outputs": [
        {
          "output_type": "stream",
          "name": "stdout",
          "text": [
            "383\n"
          ]
        }
      ]
    },
    {
      "cell_type": "code",
      "source": [
        "# Create a Span for new entity\n",
        "newEntity = Span(documentThree, 0, 1, label=ORG)\n",
        "# Index locations from 0 to 1 (excludes 1)\n",
        "\n",
        "# Add the entity to the existing Doc object\n",
        "documentThree.ents = list(documentThree.ents) + [newEntity]"
      ],
      "metadata": {
        "id": "gxuJh0pnB5ba"
      },
      "execution_count": null,
      "outputs": []
    },
    {
      "cell_type": "code",
      "source": [
        "for entity in documentThree.ents:\n",
        "  print(entity.text, entity.label_, str(spacy.explain(entity.label_)))"
      ],
      "metadata": {
        "colab": {
          "base_uri": "https://localhost:8080/"
        },
        "id": "sKNNQQEJB5Yi",
        "outputId": "9fcfe2fd-3e78-406b-e9cd-e696f79618b6"
      },
      "execution_count": null,
      "outputs": [
        {
          "output_type": "stream",
          "name": "stdout",
          "text": [
            "facebook ORG Companies, agencies, institutions, etc.\n",
            "U.S. GPE Countries, cities, states\n"
          ]
        }
      ]
    },
    {
      "cell_type": "markdown",
      "source": [
        "# 3) Visualizing Named Entities"
      ],
      "metadata": {
        "id": "6jImiOqwCXvp"
      }
    },
    {
      "cell_type": "code",
      "source": [
        "# Import the displaCy library\n",
        "from spacy import displacy"
      ],
      "metadata": {
        "id": "sIUPo84PB5Vp"
      },
      "execution_count": null,
      "outputs": []
    },
    {
      "cell_type": "code",
      "source": [
        "displacy.render(docs=document, style=\"ent\", jupyter=True)"
      ],
      "metadata": {
        "colab": {
          "base_uri": "https://localhost:8080/",
          "height": 52
        },
        "id": "a9gnQcqqB5QZ",
        "outputId": "4ebeb0a5-ee48-42ed-f441-a0bed13d179c"
      },
      "execution_count": null,
      "outputs": [
        {
          "output_type": "display_data",
          "data": {
            "text/plain": [
              "<IPython.core.display.HTML object>"
            ],
            "text/html": [
              "<span class=\"tex2jax_ignore\"><div class=\"entities\" style=\"line-height: 2.5; direction: ltr\">\n",
              "<mark class=\"entity\" style=\"background: #7aecec; padding: 0.45em 0.6em; margin: 0 0.25em; line-height: 1; border-radius: 0.35em;\">\n",
              "    Apple\n",
              "    <span style=\"font-size: 0.8em; font-weight: bold; line-height: 1; border-radius: 0.35em; vertical-align: middle; margin-left: 0.5rem\">ORG</span>\n",
              "</mark>\n",
              " is looking at buying \n",
              "<mark class=\"entity\" style=\"background: #feca74; padding: 0.45em 0.6em; margin: 0 0.25em; line-height: 1; border-radius: 0.35em;\">\n",
              "    U.K.\n",
              "    <span style=\"font-size: 0.8em; font-weight: bold; line-height: 1; border-radius: 0.35em; vertical-align: middle; margin-left: 0.5rem\">GPE</span>\n",
              "</mark>\n",
              " startup for \n",
              "<mark class=\"entity\" style=\"background: #e4e7d2; padding: 0.45em 0.6em; margin: 0 0.25em; line-height: 1; border-radius: 0.35em;\">\n",
              "    $1 billion\n",
              "    <span style=\"font-size: 0.8em; font-weight: bold; line-height: 1; border-radius: 0.35em; vertical-align: middle; margin-left: 0.5rem\">MONEY</span>\n",
              "</mark>\n",
              "</div></span>"
            ]
          },
          "metadata": {}
        }
      ]
    },
    {
      "cell_type": "code",
      "source": [
        "# Viewing Specific Entities\n",
        "options = {\"ents\": [\"ORG\", \"MONEY\"]}\n",
        "displacy.render(docs=document, style=\"ent\", jupyter=True, options=options)"
      ],
      "metadata": {
        "colab": {
          "base_uri": "https://localhost:8080/",
          "height": 52
        },
        "id": "Vm8DRZ2RCqf6",
        "outputId": "7c4b14e7-ef9d-45e4-e9bf-9d4e2b390768"
      },
      "execution_count": null,
      "outputs": [
        {
          "output_type": "display_data",
          "data": {
            "text/plain": [
              "<IPython.core.display.HTML object>"
            ],
            "text/html": [
              "<span class=\"tex2jax_ignore\"><div class=\"entities\" style=\"line-height: 2.5; direction: ltr\">\n",
              "<mark class=\"entity\" style=\"background: #7aecec; padding: 0.45em 0.6em; margin: 0 0.25em; line-height: 1; border-radius: 0.35em;\">\n",
              "    Apple\n",
              "    <span style=\"font-size: 0.8em; font-weight: bold; line-height: 1; border-radius: 0.35em; vertical-align: middle; margin-left: 0.5rem\">ORG</span>\n",
              "</mark>\n",
              " is looking at buying U.K. startup for \n",
              "<mark class=\"entity\" style=\"background: #e4e7d2; padding: 0.45em 0.6em; margin: 0 0.25em; line-height: 1; border-radius: 0.35em;\">\n",
              "    $1 billion\n",
              "    <span style=\"font-size: 0.8em; font-weight: bold; line-height: 1; border-radius: 0.35em; vertical-align: middle; margin-left: 0.5rem\">MONEY</span>\n",
              "</mark>\n",
              "</div></span>"
            ]
          },
          "metadata": {}
        }
      ]
    }
  ]
}